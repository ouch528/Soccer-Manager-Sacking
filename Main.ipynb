{
 "cells": [
  {
   "cell_type": "code",
   "execution_count": null,
   "id": "5cc28b6a-8343-4070-9df3-36483ba0ad88",
   "metadata": {},
   "outputs": [],
   "source": [
    "import panda as pd"
   ]
  }
 ],
 "metadata": {
  "kernelspec": {
   "display_name": "conda_python3",
   "language": "python",
   "name": "conda_python3"
  },
  "language_info": {
   "codemirror_mode": {
    "name": "ipython",
    "version": 3
   },
   "file_extension": ".py",
   "mimetype": "text/x-python",
   "name": "python",
   "nbconvert_exporter": "python",
   "pygments_lexer": "ipython3",
   "version": "3.10.14"
  }
 },
 "nbformat": 4,
 "nbformat_minor": 5
}
